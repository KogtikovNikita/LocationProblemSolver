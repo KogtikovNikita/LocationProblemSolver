{
 "cells": [
  {
   "cell_type": "code",
   "execution_count": 2,
   "metadata": {},
   "outputs": [
    {
     "name": "stdout",
     "output_type": "stream",
     "text": [
      "Requirement already satisfied: haversine in /home/ec2-user/anaconda3/envs/python3/lib/python3.6/site-packages (2.3.0)\n",
      "\u001b[33mWARNING: You are using pip version 20.0.2; however, version 20.2.3 is available.\n",
      "You should consider upgrading via the '/home/ec2-user/anaconda3/envs/python3/bin/python -m pip install --upgrade pip' command.\u001b[0m\n",
      "Requirement already satisfied: utm in /home/ec2-user/anaconda3/envs/python3/lib/python3.6/site-packages (0.6.0)\n",
      "\u001b[33mWARNING: You are using pip version 20.0.2; however, version 20.2.3 is available.\n",
      "You should consider upgrading via the '/home/ec2-user/anaconda3/envs/python3/bin/python -m pip install --upgrade pip' command.\u001b[0m\n"
     ]
    }
   ],
   "source": [
    "!pip install haversine\n",
    "!pip install utm"
   ]
  },
  {
   "cell_type": "code",
   "execution_count": 4,
   "metadata": {},
   "outputs": [],
   "source": [
    "import pandas as pd\n",
    "from haversine import haversine\n",
    "import utm\n",
    "import math\n",
    "import itertools\n",
    "possibleLocations_data = pd.read_csv('./tp1_facility.csv')\n",
    "cardiacArrest_data = pd.read_csv('./tp1_ohca.csv')"
   ]
  },
  {
   "cell_type": "code",
   "execution_count": 5,
   "metadata": {},
   "outputs": [],
   "source": [
    "class Facility:\n",
    "    def __init__(self, lat, long):\n",
    "        self.lat = lat\n",
    "        self.long = long\n",
    "    \n",
    "\n",
    "    def getLatLong(self):\n",
    "        return (self.lat,self.long)"
   ]
  },
  {
   "cell_type": "code",
   "execution_count": 6,
   "metadata": {},
   "outputs": [],
   "source": [
    "class Demand:\n",
    "    def __init__(self,lat,long):\n",
    "        self.lat = lat\n",
    "        self.long = long\n",
    "        self.setOfCandidateCoverDemand = set()\n",
    "\n",
    "    def getLatLong(self):\n",
    "        return (self.lat,self.long)\n",
    "\n",
    "    def updateSetOfCandidateCoverDemand(self, candidateLocation):\n",
    "        self.setOfCandidateCoverDemand.add(candidateLocation)\n",
    "\n"
   ]
  },
  {
   "cell_type": "code",
   "execution_count": 37,
   "metadata": {},
   "outputs": [],
   "source": [
    "from math import sqrt, pow\n",
    "from utm import from_latlon\n",
    "\n",
    "#Di\n",
    "maxAcceptableDistance = 2\n",
    "\n",
    "#P\n",
    "numberOfCandidateLocations = 20\n",
    "\n",
    "#Dij\n",
    "def getTravelDistance(candidate, demand): \n",
    "    candidateDistance = from_latlon(candidate.lat, candidate.long)\n",
    "    demandDistance = from_latlon(demand.lat, demand.long)\n",
    "    totalDistance = sqrt(pow(abs(candidateDistance[0]-demandDistance[0]), 2) + pow(abs(candidateDistance[1]-demandDistance[1]), 2)) / 500\n",
    "    return totalDistance\n",
    "  # return haversine(candidate.getLatLong(), demand.getLatLong())\n",
    "\n",
    "#Wi\n"
   ]
  },
  {
   "cell_type": "code",
   "execution_count": 38,
   "metadata": {},
   "outputs": [
    {
     "name": "stdout",
     "output_type": "stream",
     "text": [
      "{<__main__.Facility object at 0x7f4b0b63a080>, <__main__.Facility object at 0x7f4b0b63a940>, <__main__.Facility object at 0x7f4b0b63a160>, <__main__.Facility object at 0x7f4b0b63a978>, <__main__.Facility object at 0x7f4b0b63a9b0>, <__main__.Facility object at 0x7f4b0b63aa90>, <__main__.Facility object at 0x7f4b0b63a2b0>, <__main__.Facility object at 0x7f4b0b4832b0>, <__main__.Facility object at 0x7f4b0b4832e8>, <__main__.Facility object at 0x7f4b0b63a358>, <__main__.Facility object at 0x7f4b0b63ab70>, <__main__.Facility object at 0x7f4b0b483b70>, <__main__.Facility object at 0x7f4b0b63a3c8>, <__main__.Facility object at 0x7f4b0b63a400>, <__main__.Facility object at 0x7f4b0b63ac18>, <__main__.Facility object at 0x7f4b0b63acc0>, <__main__.Facility object at 0x7f4b0b63acf8>, <__main__.Facility object at 0x7f4b0b63a550>, <__main__.Facility object at 0x7f4b0bb1b5c0>, <__main__.Facility object at 0x7f4b0b63ae10>, <__main__.Facility object at 0x7f4b0b63ae80>, <__main__.Facility object at 0x7f4b0b63af28>, <__main__.Facility object at 0x7f4b0b63a748>, <__main__.Facility object at 0x7f4b0b63af60>, <__main__.Facility object at 0x7f4b0b63a780>, <__main__.Facility object at 0x7f4b0b63afd0>}\n"
     ]
    }
   ],
   "source": [
    "\n",
    "#I\n",
    "setOfDemandPoints = set()\n",
    "for index,location in cardiacArrest_data.iterrows():\n",
    "    setOfDemandPoints.add(Demand(location['Lat'],location['Lon']))\n",
    "\n",
    "#J\n",
    "setOfCandidateLocations = set()\n",
    "for index,location in possibleLocations_data.iterrows():\n",
    "    setOfCandidateLocations.add(Facility(location['Lat'],location['Lon']))\n",
    "    \n",
    "#N\n",
    "setOfPossibleCandidates = set()\n",
    "for candidate in setOfCandidateLocations:\n",
    "    for demand in setOfDemandPoints:\n",
    "        if getTravelDistance(candidate, demand) < maxAcceptableDistance:\n",
    "            demand.updateSetOfCandidateCoverDemand(candidate)\n",
    "            setOfPossibleCandidates.add(candidate)\n",
    "\n",
    "print(setOfPossibleCandidates)"
   ]
  },
  {
   "cell_type": "code",
   "execution_count": 42,
   "metadata": {},
   "outputs": [
    {
     "name": "stdout",
     "output_type": "stream",
     "text": [
      "24\n"
     ]
    }
   ],
   "source": [
    "#If demand point is covered, Decision Variable Z = 1\n",
    "#Sum of Zi(1/0) * Wi(number of demand at the facility)\n",
    "\n",
    "setOfMaximisedCoverDemand = set()\n",
    "currentMaximisedDemand = 0\n",
    "sumOfZandW = 0\n",
    "\n",
    "if len(setOfPossibleCandidates) < numberOfCandidateLocations:\n",
    "    numberOfCandidateLocations = len(setOfPossibleCandidates)\n",
    "    \n",
    "for setOfCandidates in itertools.combinations(setOfPossibleCandidates, numberOfCandidateLocations):   \n",
    "    for demand in setOfDemandPoints:\n",
    "        for candidate in setOfCandidates:\n",
    "            if candidate in demand.setOfCandidateCoverDemand:\n",
    "                sumOfZandW = sumOfZandW + 1\n",
    "        \n",
    "    if sumOfZandW != 0:\n",
    "        if sumOfZandW > currentMaximisedDemand:\n",
    "            currentMaximisedDemand = sumOfZandW\n",
    "            setOfMaximisedCoverDemand.clear()\n",
    "            setOfMaximisedCoverDemand.add(setOfCandidates)\n",
    "        elif sumOfZandW == currentMaximisedDemand:\n",
    "            setOfMaximisedCoverDemand.add(setOfCandidates)\n",
    "        sumOfZandW=0\n"
   ]
  },
  {
   "cell_type": "code",
   "execution_count": null,
   "metadata": {},
   "outputs": [],
   "source": [
    "import numpy as np\n",
    "import pandas as pd\n",
    "import matplotlib.pyplot as plt\n",
    "import matplotlib.cm as cm\n",
    "\n",
    "BBox = ((possibleLocations_data.Lon.min(),cardiacArrest_data.Lon.max(),\n",
    "         cardiacArrest_data.Lat.min(), cardiacArrest_data.Lat.max()))\n",
    "    \n",
    "ruh_m = plt.imread('./tp_1map.png')\n",
    "\n",
    "colors = cm.rainbow(np.linspace(0, 1, len(setOfMaximisedCoverDemand)))\n",
    "fig, ax = plt.subplots(figsize = (20,20))\n",
    "for facilities, c in zip(setOfMaximisedCoverDemand, colors):\n",
    "    for facility in facilities:\n",
    "        ax.scatter(facility.long, facility.lat, zorder=1, alpha=1.0, color=c, s=100)\n",
    "\n",
    "ax.scatter(cardiacArrest_data.Lon, cardiacArrest_data.Lat, zorder=1, alpha=1.0, c='black', s=40)\n",
    "# ax.scatter(possibleLocations_data.Lon, possibleLocations_data.Lat, zorder=1, alpha=1.0, c='r', s=10)\n",
    "ax.set_title('Plotting Data on SG Map')\n",
    "ax.set_xlim(BBox[0],BBox[1])\n",
    "ax.set_ylim(BBox[2],BBox[3])\n",
    "ax.imshow(ruh_m, zorder=0, extent = BBox, aspect= 'equal')\n",
    "\n",
    "\n",
    "\n",
    "\n"
   ]
  },
  {
   "cell_type": "code",
   "execution_count": null,
   "metadata": {},
   "outputs": [],
   "source": []
  }
 ],
 "metadata": {
  "kernelspec": {
   "display_name": "conda_python3",
   "language": "python",
   "name": "conda_python3"
  },
  "language_info": {
   "codemirror_mode": {
    "name": "ipython",
    "version": 3
   },
   "file_extension": ".py",
   "mimetype": "text/x-python",
   "name": "python",
   "nbconvert_exporter": "python",
   "pygments_lexer": "ipython3",
   "version": "3.6.10"
  }
 },
 "nbformat": 4,
 "nbformat_minor": 4
}
